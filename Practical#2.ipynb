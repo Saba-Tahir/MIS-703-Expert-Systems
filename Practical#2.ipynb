{
 "cells": [
  {
   "cell_type": "code",
   "execution_count": 7,
   "id": "689ebee4",
   "metadata": {},
   "outputs": [
    {
     "name": "stdout",
     "output_type": "stream",
     "text": [
      "Smaller\n",
      "finis\n"
     ]
    }
   ],
   "source": [
    "x=2\n",
    "if x<10:\n",
    "    print('Smaller')\n",
    "    if x>20:\n",
    "        print('Bigger')\n",
    "print ('finis')"
   ]
  },
  {
   "cell_type": "code",
   "execution_count": 2,
   "id": "b3d4c069",
   "metadata": {},
   "outputs": [],
   "source": [
    "x=1225\n",
    "x=x+x"
   ]
  },
  {
   "cell_type": "code",
   "execution_count": 3,
   "id": "706924ad",
   "metadata": {},
   "outputs": [
    {
     "name": "stdout",
     "output_type": "stream",
     "text": [
      "2450\n"
     ]
    }
   ],
   "source": [
    "print(x)"
   ]
  },
  {
   "cell_type": "code",
   "execution_count": 10,
   "id": "ec87cf5c",
   "metadata": {},
   "outputs": [
    {
     "data": {
      "text/plain": [
       "int"
      ]
     },
     "execution_count": 10,
     "metadata": {},
     "output_type": "execute_result"
    }
   ],
   "source": [
    "x=2\n",
    "type (x)"
   ]
  },
  {
   "cell_type": "code",
   "execution_count": 11,
   "id": "8384f036",
   "metadata": {},
   "outputs": [
    {
     "name": "stdout",
     "output_type": "stream",
     "text": [
      "-351.0\n"
     ]
    }
   ],
   "source": [
    "x=10\n",
    "x=3.9*x*(1-x)\n",
    "print(x)"
   ]
  },
  {
   "cell_type": "code",
   "execution_count": 12,
   "id": "064dc34f",
   "metadata": {},
   "outputs": [
    {
     "data": {
      "text/plain": [
       "8"
      ]
     },
     "execution_count": 12,
     "metadata": {},
     "output_type": "execute_result"
    }
   ],
   "source": [
    "2**3"
   ]
  },
  {
   "cell_type": "code",
   "execution_count": 13,
   "id": "1347d813",
   "metadata": {},
   "outputs": [
    {
     "data": {
      "text/plain": [
       "3375"
      ]
     },
     "execution_count": 13,
     "metadata": {},
     "output_type": "execute_result"
    }
   ],
   "source": [
    "15**3"
   ]
  },
  {
   "cell_type": "code",
   "execution_count": 14,
   "id": "cbaa62bd",
   "metadata": {},
   "outputs": [
    {
     "name": "stdout",
     "output_type": "stream",
     "text": [
      "3\n"
     ]
    }
   ],
   "source": [
    "jj=23\n",
    "kk= jj%5\n",
    "print(kk)"
   ]
  },
  {
   "cell_type": "code",
   "execution_count": 15,
   "id": "51aeb106",
   "metadata": {},
   "outputs": [
    {
     "name": "stdout",
     "output_type": "stream",
     "text": [
      "6.999744\n"
     ]
    }
   ],
   "source": [
    "x=1+2*3-4/5**6\n",
    "print(x)"
   ]
  },
  {
   "cell_type": "code",
   "execution_count": 16,
   "id": "10df83a5",
   "metadata": {},
   "outputs": [
    {
     "data": {
      "text/plain": [
       "15625"
      ]
     },
     "execution_count": 16,
     "metadata": {},
     "output_type": "execute_result"
    }
   ],
   "source": [
    "5**6"
   ]
  },
  {
   "cell_type": "code",
   "execution_count": 17,
   "id": "b03a621c",
   "metadata": {},
   "outputs": [
    {
     "name": "stdout",
     "output_type": "stream",
     "text": [
      "199.0\n"
     ]
    }
   ],
   "source": [
    "print(float(99)+100)"
   ]
  },
  {
   "cell_type": "code",
   "execution_count": 4,
   "id": "fc7808cf",
   "metadata": {},
   "outputs": [
    {
     "name": "stdout",
     "output_type": "stream",
     "text": [
      "who are you?maryam\n",
      "welcome maryam\n"
     ]
    }
   ],
   "source": [
    "nam= input ('who are you?')\n",
    "print('welcome', nam)"
   ]
  },
  {
   "cell_type": "code",
   "execution_count": 6,
   "id": "f8cacfa1",
   "metadata": {},
   "outputs": [
    {
     "name": "stdout",
     "output_type": "stream",
     "text": [
      "enter floor number0\n",
      "1\n"
     ]
    }
   ],
   "source": [
    "a = input('enter floor number')\n",
    "floor=int(a)+1\n",
    "print(floor)"
   ]
  },
  {
   "cell_type": "code",
   "execution_count": 12,
   "id": "8995dd43",
   "metadata": {},
   "outputs": [
    {
     "name": "stdout",
     "output_type": "stream",
     "text": [
      "user hours?35\n",
      "rate per hour2.75\n"
     ]
    }
   ],
   "source": [
    "hours= input('user hours?')\n",
    "rate= input('rate per hour')\n"
   ]
  },
  {
   "cell_type": "code",
   "execution_count": 13,
   "id": "c35a3042",
   "metadata": {},
   "outputs": [
    {
     "name": "stdout",
     "output_type": "stream",
     "text": [
      "96.25\n"
     ]
    }
   ],
   "source": [
    "hours=int(hours)\n",
    "rate=float(rate)\n",
    "pay=rate*hours\n",
    "print(pay)"
   ]
  },
  {
   "cell_type": "code",
   "execution_count": null,
   "id": "37b83dea",
   "metadata": {},
   "outputs": [],
   "source": [
    " "
   ]
  },
  {
   "cell_type": "code",
   "execution_count": null,
   "id": "50302539",
   "metadata": {},
   "outputs": [],
   "source": [
    "\n"
   ]
  },
  {
   "cell_type": "code",
   "execution_count": null,
   "id": "4c0101c4",
   "metadata": {},
   "outputs": [],
   "source": [
    "\n"
   ]
  },
  {
   "cell_type": "code",
   "execution_count": null,
   "id": "c33fdd2c",
   "metadata": {},
   "outputs": [],
   "source": []
  },
  {
   "cell_type": "code",
   "execution_count": null,
   "id": "748c36ca",
   "metadata": {},
   "outputs": [],
   "source": []
  }
 ],
 "metadata": {
  "kernelspec": {
   "display_name": "Python 3",
   "language": "python",
   "name": "python3"
  }
 },
 "nbformat": 4,
 "nbformat_minor": 5
}
